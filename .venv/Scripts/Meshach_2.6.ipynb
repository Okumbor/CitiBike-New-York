{
 "cells": [
  {
   "cell_type": "markdown",
   "metadata": {},
   "source": [
    "# Building dashboard with Streamlit"
   ]
  },
  {
   "cell_type": "code",
   "execution_count": 1,
   "metadata": {},
   "outputs": [],
   "source": [
    "# Import Libraries\n",
    "\n",
    "import streamlit as st\n",
    "import pandas as pd\n",
    "import numpy as np\n",
    "import plotly.express as px\n",
    "from plotly.subplots import make_subplots\n",
    "import plotly.graph_objects as go\n",
    "import matplotlib.pyplot as plt\n",
    "from datetime import datetime as dt\n",
    "from streamlit_keplergl import keplergl_static"
   ]
  },
  {
   "cell_type": "markdown",
   "metadata": {},
   "source": [
    "## Wrangling Data"
   ]
  },
  {
   "cell_type": "code",
   "execution_count": 4,
   "metadata": {},
   "outputs": [],
   "source": [
    "# Import the Dataframe\n",
    "path = r\"C:\\Users\\okumb\\Downloads\\CitiBike-New-York\\.venv\\Scripts\\NewYork_data.csv\"\n",
    "df = pd.read_csv(path, index_col=0)"
   ]
  },
  {
   "cell_type": "code",
   "execution_count": 5,
   "metadata": {},
   "outputs": [
    {
     "data": {
      "text/plain": [
       "ride_id                object\n",
       "rideable_type          object\n",
       "started_at             object\n",
       "ended_at               object\n",
       "start_station_name     object\n",
       "start_station_id       object\n",
       "end_station_name       object\n",
       "end_station_id         object\n",
       "start_lat             float64\n",
       "start_lng             float64\n",
       "end_lat               float64\n",
       "end_lng               float64\n",
       "member_casual          object\n",
       "DATE                   object\n",
       "TAVG                  float64\n",
       "_merge                 object\n",
       "dtype: object"
      ]
     },
     "execution_count": 5,
     "metadata": {},
     "output_type": "execute_result"
    }
   ],
   "source": [
    "df.dtypes "
   ]
  },
  {
   "cell_type": "code",
   "execution_count": 6,
   "metadata": {},
   "outputs": [],
   "source": [
    "# rename columns ['DATE':'date'], ['TAVG':'temp_avg'] in df dataframe\n",
    "\n",
    "df.rename(columns={'DATE':'date', 'TAVG':'temp_avg'}, inplace=True)\n"
   ]
  },
  {
   "cell_type": "code",
   "execution_count": 10,
   "metadata": {},
   "outputs": [
    {
     "data": {
      "text/plain": [
       "ride_id                object\n",
       "rideable_type          object\n",
       "started_at             object\n",
       "ended_at               object\n",
       "start_station_name     object\n",
       "start_station_id       object\n",
       "end_station_name       object\n",
       "end_station_id         object\n",
       "start_lat             float64\n",
       "start_lng             float64\n",
       "end_lat               float64\n",
       "end_lng               float64\n",
       "member_casual          object\n",
       "date                   object\n",
       "temp_avg              float64\n",
       "_merge                 object\n",
       "dtype: object"
      ]
     },
     "execution_count": 10,
     "metadata": {},
     "output_type": "execute_result"
    }
   ],
   "source": [
    "df.dtypes "
   ]
  },
  {
   "cell_type": "code",
   "execution_count": 11,
   "metadata": {},
   "outputs": [],
   "source": [
    "# drop '_merge' column in the df dataframe\n",
    "\n",
    "df.drop(['_merge'], axis=1, inplace=True)\n"
   ]
  },
  {
   "cell_type": "code",
   "execution_count": 12,
   "metadata": {},
   "outputs": [],
   "source": [
    "# Create a month column \n",
    "\n",
    "df['date'] = pd.to_datetime(df['date'], format = '%Y-%m-%d')\n",
    "df['month'] = df['date'].dt.month\n",
    "df['month'] = df['month'].astype('int')"
   ]
  },
  {
   "cell_type": "code",
   "execution_count": 13,
   "metadata": {},
   "outputs": [],
   "source": [
    "# Create the season column\n",
    "\n",
    "df['season'] = [\n",
    "\"winter\" if (month == 12 or 1 <= month <= 4)\n",
    "    else \"spring\" if (4 < month <= 5)\n",
    "    else \"summer\" if (6 <= month <= 9)\n",
    "    else \"fall\"\n",
    "for month in df['month']\n",
    "    ]"
   ]
  },
  {
   "cell_type": "code",
   "execution_count": 14,
   "metadata": {},
   "outputs": [
    {
     "data": {
      "text/plain": [
       "(895485, 17)"
      ]
     },
     "execution_count": 14,
     "metadata": {},
     "output_type": "execute_result"
    }
   ],
   "source": [
    "df.shape"
   ]
  },
  {
   "cell_type": "code",
   "execution_count": 15,
   "metadata": {},
   "outputs": [
    {
     "data": {
      "text/plain": [
       "Index(['ride_id', 'rideable_type', 'started_at', 'ended_at',\n",
       "       'start_station_name', 'start_station_id', 'end_station_name',\n",
       "       'end_station_id', 'start_lat', 'start_lng', 'end_lat', 'end_lng',\n",
       "       'member_casual', 'date', 'temp_avg', 'month', 'season'],\n",
       "      dtype='object')"
      ]
     },
     "execution_count": 15,
     "metadata": {},
     "output_type": "execute_result"
    }
   ],
   "source": [
    "df.columns"
   ]
  },
  {
   "cell_type": "code",
   "execution_count": 16,
   "metadata": {},
   "outputs": [
    {
     "data": {
      "text/html": [
       "<div>\n",
       "<style scoped>\n",
       "    .dataframe tbody tr th:only-of-type {\n",
       "        vertical-align: middle;\n",
       "    }\n",
       "\n",
       "    .dataframe tbody tr th {\n",
       "        vertical-align: top;\n",
       "    }\n",
       "\n",
       "    .dataframe thead th {\n",
       "        text-align: right;\n",
       "    }\n",
       "</style>\n",
       "<table border=\"1\" class=\"dataframe\">\n",
       "  <thead>\n",
       "    <tr style=\"text-align: right;\">\n",
       "      <th></th>\n",
       "      <th>ride_id</th>\n",
       "      <th>rideable_type</th>\n",
       "      <th>started_at</th>\n",
       "      <th>ended_at</th>\n",
       "      <th>start_station_name</th>\n",
       "      <th>start_station_id</th>\n",
       "      <th>end_station_name</th>\n",
       "      <th>end_station_id</th>\n",
       "      <th>start_lat</th>\n",
       "      <th>start_lng</th>\n",
       "      <th>end_lat</th>\n",
       "      <th>end_lng</th>\n",
       "      <th>member_casual</th>\n",
       "      <th>date</th>\n",
       "      <th>temp_avg</th>\n",
       "      <th>month</th>\n",
       "      <th>season</th>\n",
       "    </tr>\n",
       "  </thead>\n",
       "  <tbody>\n",
       "    <tr>\n",
       "      <th>0</th>\n",
       "      <td>CA5837152804D4B5</td>\n",
       "      <td>electric_bike</td>\n",
       "      <td>2022-01-26 18:50:39</td>\n",
       "      <td>2022-01-26 18:51:53</td>\n",
       "      <td>12 St &amp; Sinatra Dr N</td>\n",
       "      <td>HB201</td>\n",
       "      <td>12 St &amp; Sinatra Dr N</td>\n",
       "      <td>HB201</td>\n",
       "      <td>40.750604</td>\n",
       "      <td>-74.024020</td>\n",
       "      <td>40.750604</td>\n",
       "      <td>-74.024020</td>\n",
       "      <td>member</td>\n",
       "      <td>2022-01-26</td>\n",
       "      <td>-2.3</td>\n",
       "      <td>1</td>\n",
       "      <td>winter</td>\n",
       "    </tr>\n",
       "    <tr>\n",
       "      <th>1</th>\n",
       "      <td>BA06A5E45B6601D2</td>\n",
       "      <td>classic_bike</td>\n",
       "      <td>2022-01-28 13:14:07</td>\n",
       "      <td>2022-01-28 13:20:23</td>\n",
       "      <td>Essex Light Rail</td>\n",
       "      <td>JC038</td>\n",
       "      <td>Essex Light Rail</td>\n",
       "      <td>JC038</td>\n",
       "      <td>40.712774</td>\n",
       "      <td>-74.036486</td>\n",
       "      <td>40.712774</td>\n",
       "      <td>-74.036486</td>\n",
       "      <td>member</td>\n",
       "      <td>2022-01-28</td>\n",
       "      <td>0.1</td>\n",
       "      <td>1</td>\n",
       "      <td>winter</td>\n",
       "    </tr>\n",
       "    <tr>\n",
       "      <th>2</th>\n",
       "      <td>7B6827D7B9508D93</td>\n",
       "      <td>classic_bike</td>\n",
       "      <td>2022-01-10 19:55:13</td>\n",
       "      <td>2022-01-10 20:00:37</td>\n",
       "      <td>Essex Light Rail</td>\n",
       "      <td>JC038</td>\n",
       "      <td>Essex Light Rail</td>\n",
       "      <td>JC038</td>\n",
       "      <td>40.712774</td>\n",
       "      <td>-74.036486</td>\n",
       "      <td>40.712774</td>\n",
       "      <td>-74.036486</td>\n",
       "      <td>member</td>\n",
       "      <td>2022-01-10</td>\n",
       "      <td>1.6</td>\n",
       "      <td>1</td>\n",
       "      <td>winter</td>\n",
       "    </tr>\n",
       "    <tr>\n",
       "      <th>3</th>\n",
       "      <td>6E5864EA6FCEC90D</td>\n",
       "      <td>electric_bike</td>\n",
       "      <td>2022-01-26 07:54:57</td>\n",
       "      <td>2022-01-26 07:55:22</td>\n",
       "      <td>12 St &amp; Sinatra Dr N</td>\n",
       "      <td>HB201</td>\n",
       "      <td>12 St &amp; Sinatra Dr N</td>\n",
       "      <td>HB201</td>\n",
       "      <td>40.750604</td>\n",
       "      <td>-74.024020</td>\n",
       "      <td>40.750604</td>\n",
       "      <td>-74.024020</td>\n",
       "      <td>member</td>\n",
       "      <td>2022-01-26</td>\n",
       "      <td>-2.3</td>\n",
       "      <td>1</td>\n",
       "      <td>winter</td>\n",
       "    </tr>\n",
       "    <tr>\n",
       "      <th>4</th>\n",
       "      <td>E24954255BBDE32D</td>\n",
       "      <td>electric_bike</td>\n",
       "      <td>2022-01-13 18:44:46</td>\n",
       "      <td>2022-01-13 18:45:43</td>\n",
       "      <td>12 St &amp; Sinatra Dr N</td>\n",
       "      <td>HB201</td>\n",
       "      <td>12 St &amp; Sinatra Dr N</td>\n",
       "      <td>HB201</td>\n",
       "      <td>40.750604</td>\n",
       "      <td>-74.024020</td>\n",
       "      <td>40.750604</td>\n",
       "      <td>-74.024020</td>\n",
       "      <td>member</td>\n",
       "      <td>2022-01-13</td>\n",
       "      <td>4.0</td>\n",
       "      <td>1</td>\n",
       "      <td>winter</td>\n",
       "    </tr>\n",
       "  </tbody>\n",
       "</table>\n",
       "</div>"
      ],
      "text/plain": [
       "            ride_id  rideable_type           started_at             ended_at  \\\n",
       "0  CA5837152804D4B5  electric_bike  2022-01-26 18:50:39  2022-01-26 18:51:53   \n",
       "1  BA06A5E45B6601D2   classic_bike  2022-01-28 13:14:07  2022-01-28 13:20:23   \n",
       "2  7B6827D7B9508D93   classic_bike  2022-01-10 19:55:13  2022-01-10 20:00:37   \n",
       "3  6E5864EA6FCEC90D  electric_bike  2022-01-26 07:54:57  2022-01-26 07:55:22   \n",
       "4  E24954255BBDE32D  electric_bike  2022-01-13 18:44:46  2022-01-13 18:45:43   \n",
       "\n",
       "     start_station_name start_station_id      end_station_name end_station_id  \\\n",
       "0  12 St & Sinatra Dr N            HB201  12 St & Sinatra Dr N          HB201   \n",
       "1      Essex Light Rail            JC038      Essex Light Rail          JC038   \n",
       "2      Essex Light Rail            JC038      Essex Light Rail          JC038   \n",
       "3  12 St & Sinatra Dr N            HB201  12 St & Sinatra Dr N          HB201   \n",
       "4  12 St & Sinatra Dr N            HB201  12 St & Sinatra Dr N          HB201   \n",
       "\n",
       "   start_lat  start_lng    end_lat    end_lng member_casual       date  \\\n",
       "0  40.750604 -74.024020  40.750604 -74.024020        member 2022-01-26   \n",
       "1  40.712774 -74.036486  40.712774 -74.036486        member 2022-01-28   \n",
       "2  40.712774 -74.036486  40.712774 -74.036486        member 2022-01-10   \n",
       "3  40.750604 -74.024020  40.750604 -74.024020        member 2022-01-26   \n",
       "4  40.750604 -74.024020  40.750604 -74.024020        member 2022-01-13   \n",
       "\n",
       "   temp_avg  month  season  \n",
       "0      -2.3      1  winter  \n",
       "1       0.1      1  winter  \n",
       "2       1.6      1  winter  \n",
       "3      -2.3      1  winter  \n",
       "4       4.0      1  winter  "
      ]
     },
     "execution_count": 16,
     "metadata": {},
     "output_type": "execute_result"
    }
   ],
   "source": [
    "df.head()"
   ]
  },
  {
   "cell_type": "markdown",
   "metadata": {},
   "source": [
    "## Create Plotly Charts"
   ]
  },
  {
   "cell_type": "code",
   "execution_count": 17,
   "metadata": {},
   "outputs": [],
   "source": [
    "## Groupby\n",
    "\n",
    "df['value'] = 1 \n",
    "df_groupby_bar = df.groupby('start_station_name', as_index=False).agg({'value': 'sum'})\n",
    "top20 = df_groupby_bar.nlargest(20, 'value')"
   ]
  },
  {
   "cell_type": "code",
   "execution_count": 25,
   "metadata": {},
   "outputs": [
    {
     "data": {
      "application/vnd.plotly.v1+json": {
       "config": {
        "plotlyServerURL": "https://plot.ly"
       },
       "data": [
        {
         "marker": {
          "color": [
           42556,
           34245,
           33020,
           30244,
           23289,
           21961,
           20477,
           19965,
           19501,
           19230,
           17137,
           17066,
           16731,
           15883,
           15754,
           15502,
           15101,
           14563,
           14423,
           14124
          ],
          "colorscale": [
           [
            0,
            "rgb(247,251,255)"
           ],
           [
            0.125,
            "rgb(222,235,247)"
           ],
           [
            0.25,
            "rgb(198,219,239)"
           ],
           [
            0.375,
            "rgb(158,202,225)"
           ],
           [
            0.5,
            "rgb(107,174,214)"
           ],
           [
            0.625,
            "rgb(66,146,198)"
           ],
           [
            0.75,
            "rgb(33,113,181)"
           ],
           [
            0.875,
            "rgb(8,81,156)"
           ],
           [
            1,
            "rgb(8,48,107)"
           ]
          ]
         },
         "type": "bar",
         "x": [
          "Grove St PATH",
          "South Waterfront Walkway - Sinatra Dr & 1 St",
          "Hoboken Terminal - River St & Hudson Pl",
          "Hoboken Terminal - Hudson St & Hudson Pl",
          "City Hall - Washington St & 1 St",
          "Newport Pkwy",
          "Hamilton Park",
          "Newport PATH",
          "Hoboken Ave at Monmouth St",
          "Marin Light Rail",
          "12 St & Sinatra Dr N",
          "14 St Ferry - 14 St & Shipyard Ln",
          "Columbus Dr at Exchange Pl",
          "Hudson St & 4 St",
          "Harborside",
          "11 St & Washington St",
          "Washington St",
          "Liberty Light Rail",
          "8 St & Washington St",
          "Madison St & 1 St"
         ],
         "y": [
          42556,
          34245,
          33020,
          30244,
          23289,
          21961,
          20477,
          19965,
          19501,
          19230,
          17137,
          17066,
          16731,
          15883,
          15754,
          15502,
          15101,
          14563,
          14423,
          14124
         ]
        }
       ],
       "layout": {
        "height": 600,
        "margin": {
         "b": 100,
         "l": 40,
         "r": 40,
         "t": 40
        },
        "template": {
         "data": {
          "candlestick": [
           {
            "decreasing": {
             "line": {
              "color": "#000033"
             }
            },
            "increasing": {
             "line": {
              "color": "#000032"
             }
            },
            "type": "candlestick"
           }
          ],
          "contour": [
           {
            "colorscale": [
             [
              0,
              "#000011"
             ],
             [
              0.1111111111111111,
              "#000012"
             ],
             [
              0.2222222222222222,
              "#000013"
             ],
             [
              0.3333333333333333,
              "#000014"
             ],
             [
              0.4444444444444444,
              "#000015"
             ],
             [
              0.5555555555555556,
              "#000016"
             ],
             [
              0.6666666666666666,
              "#000017"
             ],
             [
              0.7777777777777778,
              "#000018"
             ],
             [
              0.8888888888888888,
              "#000019"
             ],
             [
              1,
              "#000020"
             ]
            ],
            "type": "contour"
           }
          ],
          "contourcarpet": [
           {
            "colorscale": [
             [
              0,
              "#000011"
             ],
             [
              0.1111111111111111,
              "#000012"
             ],
             [
              0.2222222222222222,
              "#000013"
             ],
             [
              0.3333333333333333,
              "#000014"
             ],
             [
              0.4444444444444444,
              "#000015"
             ],
             [
              0.5555555555555556,
              "#000016"
             ],
             [
              0.6666666666666666,
              "#000017"
             ],
             [
              0.7777777777777778,
              "#000018"
             ],
             [
              0.8888888888888888,
              "#000019"
             ],
             [
              1,
              "#000020"
             ]
            ],
            "type": "contourcarpet"
           }
          ],
          "heatmap": [
           {
            "colorscale": [
             [
              0,
              "#000011"
             ],
             [
              0.1111111111111111,
              "#000012"
             ],
             [
              0.2222222222222222,
              "#000013"
             ],
             [
              0.3333333333333333,
              "#000014"
             ],
             [
              0.4444444444444444,
              "#000015"
             ],
             [
              0.5555555555555556,
              "#000016"
             ],
             [
              0.6666666666666666,
              "#000017"
             ],
             [
              0.7777777777777778,
              "#000018"
             ],
             [
              0.8888888888888888,
              "#000019"
             ],
             [
              1,
              "#000020"
             ]
            ],
            "type": "heatmap"
           }
          ],
          "histogram2d": [
           {
            "colorscale": [
             [
              0,
              "#000011"
             ],
             [
              0.1111111111111111,
              "#000012"
             ],
             [
              0.2222222222222222,
              "#000013"
             ],
             [
              0.3333333333333333,
              "#000014"
             ],
             [
              0.4444444444444444,
              "#000015"
             ],
             [
              0.5555555555555556,
              "#000016"
             ],
             [
              0.6666666666666666,
              "#000017"
             ],
             [
              0.7777777777777778,
              "#000018"
             ],
             [
              0.8888888888888888,
              "#000019"
             ],
             [
              1,
              "#000020"
             ]
            ],
            "type": "histogram2d"
           }
          ],
          "icicle": [
           {
            "textfont": {
             "color": "white"
            },
            "type": "icicle"
           }
          ],
          "sankey": [
           {
            "textfont": {
             "color": "#000036"
            },
            "type": "sankey"
           }
          ],
          "scatter": [
           {
            "marker": {
             "line": {
              "width": 0
             }
            },
            "type": "scatter"
           }
          ],
          "table": [
           {
            "cells": {
             "fill": {
              "color": "#000038"
             },
             "font": {
              "color": "#000037"
             },
             "line": {
              "color": "#000039"
             }
            },
            "header": {
             "fill": {
              "color": "#000040"
             },
             "font": {
              "color": "#000036"
             },
             "line": {
              "color": "#000039"
             }
            },
            "type": "table"
           }
          ],
          "waterfall": [
           {
            "connector": {
             "line": {
              "color": "#000036",
              "width": 2
             }
            },
            "decreasing": {
             "marker": {
              "color": "#000033"
             }
            },
            "increasing": {
             "marker": {
              "color": "#000032"
             }
            },
            "totals": {
             "marker": {
              "color": "#000034"
             }
            },
            "type": "waterfall"
           }
          ]
         },
         "layout": {
          "coloraxis": {
           "colorscale": [
            [
             0,
             "#000011"
            ],
            [
             0.1111111111111111,
             "#000012"
            ],
            [
             0.2222222222222222,
             "#000013"
            ],
            [
             0.3333333333333333,
             "#000014"
            ],
            [
             0.4444444444444444,
             "#000015"
            ],
            [
             0.5555555555555556,
             "#000016"
            ],
            [
             0.6666666666666666,
             "#000017"
            ],
            [
             0.7777777777777778,
             "#000018"
            ],
            [
             0.8888888888888888,
             "#000019"
            ],
            [
             1,
             "#000020"
            ]
           ]
          },
          "colorscale": {
           "diverging": [
            [
             0,
             "#000021"
            ],
            [
             0.1,
             "#000022"
            ],
            [
             0.2,
             "#000023"
            ],
            [
             0.3,
             "#000024"
            ],
            [
             0.4,
             "#000025"
            ],
            [
             0.5,
             "#000026"
            ],
            [
             0.6,
             "#000027"
            ],
            [
             0.7,
             "#000028"
            ],
            [
             0.8,
             "#000029"
            ],
            [
             0.9,
             "#000030"
            ],
            [
             1,
             "#000031"
            ]
           ],
           "sequential": [
            [
             0,
             "#000011"
            ],
            [
             0.1111111111111111,
             "#000012"
            ],
            [
             0.2222222222222222,
             "#000013"
            ],
            [
             0.3333333333333333,
             "#000014"
            ],
            [
             0.4444444444444444,
             "#000015"
            ],
            [
             0.5555555555555556,
             "#000016"
            ],
            [
             0.6666666666666666,
             "#000017"
            ],
            [
             0.7777777777777778,
             "#000018"
            ],
            [
             0.8888888888888888,
             "#000019"
            ],
            [
             1,
             "#000020"
            ]
           ],
           "sequentialminus": [
            [
             0,
             "#000011"
            ],
            [
             0.1111111111111111,
             "#000012"
            ],
            [
             0.2222222222222222,
             "#000013"
            ],
            [
             0.3333333333333333,
             "#000014"
            ],
            [
             0.4444444444444444,
             "#000015"
            ],
            [
             0.5555555555555556,
             "#000016"
            ],
            [
             0.6666666666666666,
             "#000017"
            ],
            [
             0.7777777777777778,
             "#000018"
            ],
            [
             0.8888888888888888,
             "#000019"
            ],
            [
             1,
             "#000020"
            ]
           ]
          },
          "colorway": [
           "#000001",
           "#000002",
           "#000003",
           "#000004",
           "#000005",
           "#000006",
           "#000007",
           "#000008",
           "#000009",
           "#000010"
          ]
         }
        },
        "title": {
         "text": "Top 20 Popular Stations in New York"
        },
        "width": 900,
        "xaxis": {
         "title": {
          "text": "Station Name"
         }
        },
        "yaxis": {
         "title": {
          "text": "Sum of Trips"
         }
        }
       }
      }
     },
     "metadata": {},
     "output_type": "display_data"
    }
   ],
   "source": [
    "# top20 is the DataFrame with the top 20 stations.\n",
    "fig = go.Figure(go.Bar(x=top20['start_station_name'], y = top20['value'], marker={'color': top20['value'],'colorscale': 'Blues'}))\n",
    "\n",
    "# Update the layout to add a title and ensure adequate margin space.\n",
    "fig.update_layout(\n",
    "    title='Top 20 Popular Bike Stations in New York',\n",
    "    xaxis_title='Station Name',\n",
    "    yaxis_title='Sum of Trips',\n",
    "    width = 900, height = 600,\n",
    "    margin=dict(l=40, r=40, t=40, b=100)  # Adjust margins to ensure no clipping\n",
    ")\n",
    "\n",
    "fig.show()"
   ]
  },
  {
   "cell_type": "markdown",
   "metadata": {},
   "source": [
    "## Dual axis line"
   ]
  },
  {
   "cell_type": "code",
   "execution_count": 27,
   "metadata": {},
   "outputs": [
    {
     "data": {
      "text/html": [
       "<div>\n",
       "<style scoped>\n",
       "    .dataframe tbody tr th:only-of-type {\n",
       "        vertical-align: middle;\n",
       "    }\n",
       "\n",
       "    .dataframe tbody tr th {\n",
       "        vertical-align: top;\n",
       "    }\n",
       "\n",
       "    .dataframe thead th {\n",
       "        text-align: right;\n",
       "    }\n",
       "</style>\n",
       "<table border=\"1\" class=\"dataframe\">\n",
       "  <thead>\n",
       "    <tr style=\"text-align: right;\">\n",
       "      <th></th>\n",
       "      <th>ride_id</th>\n",
       "      <th>rideable_type</th>\n",
       "      <th>started_at</th>\n",
       "      <th>ended_at</th>\n",
       "      <th>start_station_name</th>\n",
       "      <th>start_station_id</th>\n",
       "      <th>end_station_name</th>\n",
       "      <th>end_station_id</th>\n",
       "      <th>start_lat</th>\n",
       "      <th>start_lng</th>\n",
       "      <th>end_lat</th>\n",
       "      <th>end_lng</th>\n",
       "      <th>member_casual</th>\n",
       "      <th>date</th>\n",
       "      <th>temp_avg</th>\n",
       "      <th>month</th>\n",
       "      <th>season</th>\n",
       "      <th>value</th>\n",
       "    </tr>\n",
       "  </thead>\n",
       "  <tbody>\n",
       "    <tr>\n",
       "      <th>0</th>\n",
       "      <td>CA5837152804D4B5</td>\n",
       "      <td>electric_bike</td>\n",
       "      <td>2022-01-26 18:50:39</td>\n",
       "      <td>2022-01-26 18:51:53</td>\n",
       "      <td>12 St &amp; Sinatra Dr N</td>\n",
       "      <td>HB201</td>\n",
       "      <td>12 St &amp; Sinatra Dr N</td>\n",
       "      <td>HB201</td>\n",
       "      <td>40.750604</td>\n",
       "      <td>-74.024020</td>\n",
       "      <td>40.750604</td>\n",
       "      <td>-74.024020</td>\n",
       "      <td>member</td>\n",
       "      <td>2022-01-26</td>\n",
       "      <td>-2.3</td>\n",
       "      <td>1</td>\n",
       "      <td>winter</td>\n",
       "      <td>1</td>\n",
       "    </tr>\n",
       "    <tr>\n",
       "      <th>1</th>\n",
       "      <td>BA06A5E45B6601D2</td>\n",
       "      <td>classic_bike</td>\n",
       "      <td>2022-01-28 13:14:07</td>\n",
       "      <td>2022-01-28 13:20:23</td>\n",
       "      <td>Essex Light Rail</td>\n",
       "      <td>JC038</td>\n",
       "      <td>Essex Light Rail</td>\n",
       "      <td>JC038</td>\n",
       "      <td>40.712774</td>\n",
       "      <td>-74.036486</td>\n",
       "      <td>40.712774</td>\n",
       "      <td>-74.036486</td>\n",
       "      <td>member</td>\n",
       "      <td>2022-01-28</td>\n",
       "      <td>0.1</td>\n",
       "      <td>1</td>\n",
       "      <td>winter</td>\n",
       "      <td>1</td>\n",
       "    </tr>\n",
       "    <tr>\n",
       "      <th>2</th>\n",
       "      <td>7B6827D7B9508D93</td>\n",
       "      <td>classic_bike</td>\n",
       "      <td>2022-01-10 19:55:13</td>\n",
       "      <td>2022-01-10 20:00:37</td>\n",
       "      <td>Essex Light Rail</td>\n",
       "      <td>JC038</td>\n",
       "      <td>Essex Light Rail</td>\n",
       "      <td>JC038</td>\n",
       "      <td>40.712774</td>\n",
       "      <td>-74.036486</td>\n",
       "      <td>40.712774</td>\n",
       "      <td>-74.036486</td>\n",
       "      <td>member</td>\n",
       "      <td>2022-01-10</td>\n",
       "      <td>1.6</td>\n",
       "      <td>1</td>\n",
       "      <td>winter</td>\n",
       "      <td>1</td>\n",
       "    </tr>\n",
       "    <tr>\n",
       "      <th>3</th>\n",
       "      <td>6E5864EA6FCEC90D</td>\n",
       "      <td>electric_bike</td>\n",
       "      <td>2022-01-26 07:54:57</td>\n",
       "      <td>2022-01-26 07:55:22</td>\n",
       "      <td>12 St &amp; Sinatra Dr N</td>\n",
       "      <td>HB201</td>\n",
       "      <td>12 St &amp; Sinatra Dr N</td>\n",
       "      <td>HB201</td>\n",
       "      <td>40.750604</td>\n",
       "      <td>-74.024020</td>\n",
       "      <td>40.750604</td>\n",
       "      <td>-74.024020</td>\n",
       "      <td>member</td>\n",
       "      <td>2022-01-26</td>\n",
       "      <td>-2.3</td>\n",
       "      <td>1</td>\n",
       "      <td>winter</td>\n",
       "      <td>1</td>\n",
       "    </tr>\n",
       "    <tr>\n",
       "      <th>4</th>\n",
       "      <td>E24954255BBDE32D</td>\n",
       "      <td>electric_bike</td>\n",
       "      <td>2022-01-13 18:44:46</td>\n",
       "      <td>2022-01-13 18:45:43</td>\n",
       "      <td>12 St &amp; Sinatra Dr N</td>\n",
       "      <td>HB201</td>\n",
       "      <td>12 St &amp; Sinatra Dr N</td>\n",
       "      <td>HB201</td>\n",
       "      <td>40.750604</td>\n",
       "      <td>-74.024020</td>\n",
       "      <td>40.750604</td>\n",
       "      <td>-74.024020</td>\n",
       "      <td>member</td>\n",
       "      <td>2022-01-13</td>\n",
       "      <td>4.0</td>\n",
       "      <td>1</td>\n",
       "      <td>winter</td>\n",
       "      <td>1</td>\n",
       "    </tr>\n",
       "  </tbody>\n",
       "</table>\n",
       "</div>"
      ],
      "text/plain": [
       "            ride_id  rideable_type           started_at             ended_at  \\\n",
       "0  CA5837152804D4B5  electric_bike  2022-01-26 18:50:39  2022-01-26 18:51:53   \n",
       "1  BA06A5E45B6601D2   classic_bike  2022-01-28 13:14:07  2022-01-28 13:20:23   \n",
       "2  7B6827D7B9508D93   classic_bike  2022-01-10 19:55:13  2022-01-10 20:00:37   \n",
       "3  6E5864EA6FCEC90D  electric_bike  2022-01-26 07:54:57  2022-01-26 07:55:22   \n",
       "4  E24954255BBDE32D  electric_bike  2022-01-13 18:44:46  2022-01-13 18:45:43   \n",
       "\n",
       "     start_station_name start_station_id      end_station_name end_station_id  \\\n",
       "0  12 St & Sinatra Dr N            HB201  12 St & Sinatra Dr N          HB201   \n",
       "1      Essex Light Rail            JC038      Essex Light Rail          JC038   \n",
       "2      Essex Light Rail            JC038      Essex Light Rail          JC038   \n",
       "3  12 St & Sinatra Dr N            HB201  12 St & Sinatra Dr N          HB201   \n",
       "4  12 St & Sinatra Dr N            HB201  12 St & Sinatra Dr N          HB201   \n",
       "\n",
       "   start_lat  start_lng    end_lat    end_lng member_casual       date  \\\n",
       "0  40.750604 -74.024020  40.750604 -74.024020        member 2022-01-26   \n",
       "1  40.712774 -74.036486  40.712774 -74.036486        member 2022-01-28   \n",
       "2  40.712774 -74.036486  40.712774 -74.036486        member 2022-01-10   \n",
       "3  40.750604 -74.024020  40.750604 -74.024020        member 2022-01-26   \n",
       "4  40.750604 -74.024020  40.750604 -74.024020        member 2022-01-13   \n",
       "\n",
       "   temp_avg  month  season  value  \n",
       "0      -2.3      1  winter      1  \n",
       "1       0.1      1  winter      1  \n",
       "2       1.6      1  winter      1  \n",
       "3      -2.3      1  winter      1  \n",
       "4       4.0      1  winter      1  "
      ]
     },
     "execution_count": 27,
     "metadata": {},
     "output_type": "execute_result"
    }
   ],
   "source": [
    "df.head()"
   ]
  },
  {
   "cell_type": "code",
   "execution_count": 28,
   "metadata": {},
   "outputs": [],
   "source": [
    "df['date'] = pd.to_datetime(df['date'])"
   ]
  },
  {
   "cell_type": "code",
   "execution_count": 29,
   "metadata": {},
   "outputs": [],
   "source": [
    "df_temp = df.set_index('date')"
   ]
  },
  {
   "cell_type": "code",
   "execution_count": 30,
   "metadata": {},
   "outputs": [],
   "source": [
    "# Sort the DataFrame by the DATE column in ascending order\n",
    "df_temp.sort_values(by='date', ascending=True, inplace=True)"
   ]
  },
  {
   "cell_type": "code",
   "execution_count": 31,
   "metadata": {},
   "outputs": [],
   "source": [
    "# Groupby the count of the trips \n",
    "df_group = pd.DataFrame(df_temp.groupby(['date'])['ride_id'].count()).reset_index()"
   ]
  },
  {
   "cell_type": "code",
   "execution_count": 33,
   "metadata": {},
   "outputs": [
    {
     "data": {
      "text/html": [
       "<div>\n",
       "<style scoped>\n",
       "    .dataframe tbody tr th:only-of-type {\n",
       "        vertical-align: middle;\n",
       "    }\n",
       "\n",
       "    .dataframe tbody tr th {\n",
       "        vertical-align: top;\n",
       "    }\n",
       "\n",
       "    .dataframe thead th {\n",
       "        text-align: right;\n",
       "    }\n",
       "</style>\n",
       "<table border=\"1\" class=\"dataframe\">\n",
       "  <thead>\n",
       "    <tr style=\"text-align: right;\">\n",
       "      <th></th>\n",
       "      <th>date</th>\n",
       "      <th>bike_trips_daily</th>\n",
       "    </tr>\n",
       "  </thead>\n",
       "  <tbody>\n",
       "    <tr>\n",
       "      <th>0</th>\n",
       "      <td>2022-01-01</td>\n",
       "      <td>592</td>\n",
       "    </tr>\n",
       "    <tr>\n",
       "      <th>1</th>\n",
       "      <td>2022-01-02</td>\n",
       "      <td>1248</td>\n",
       "    </tr>\n",
       "    <tr>\n",
       "      <th>2</th>\n",
       "      <td>2022-01-03</td>\n",
       "      <td>832</td>\n",
       "    </tr>\n",
       "    <tr>\n",
       "      <th>3</th>\n",
       "      <td>2022-01-04</td>\n",
       "      <td>934</td>\n",
       "    </tr>\n",
       "    <tr>\n",
       "      <th>4</th>\n",
       "      <td>2022-01-05</td>\n",
       "      <td>914</td>\n",
       "    </tr>\n",
       "  </tbody>\n",
       "</table>\n",
       "</div>"
      ],
      "text/plain": [
       "        date  bike_trips_daily\n",
       "0 2022-01-01               592\n",
       "1 2022-01-02              1248\n",
       "2 2022-01-03               832\n",
       "3 2022-01-04               934\n",
       "4 2022-01-05               914"
      ]
     },
     "execution_count": 33,
     "metadata": {},
     "output_type": "execute_result"
    }
   ],
   "source": [
    "df_group.head()"
   ]
  },
  {
   "cell_type": "code",
   "execution_count": 32,
   "metadata": {},
   "outputs": [
    {
     "name": "stdout",
     "output_type": "stream",
     "text": [
      "_merge\n",
      "both          895485\n",
      "left_only          0\n",
      "right_only         0\n",
      "Name: count, dtype: int64\n",
      "Shape of January 1st is (592, 20)\n",
      "Shape of January 2nd is (1248, 20)\n",
      "Index(['ride_id', 'rideable_type', 'started_at', 'ended_at',\n",
      "       'start_station_name', 'start_station_id', 'end_station_name',\n",
      "       'end_station_id', 'start_lat', 'start_lng', 'end_lat', 'end_lng',\n",
      "       'member_casual', 'temp_avg', 'month', 'season', 'value',\n",
      "       'bike_trips_daily', '_merge'],\n",
      "      dtype='object')\n"
     ]
    }
   ],
   "source": [
    "df_group.rename(columns = {'ride_id':'bike_trips_daily'}, inplace = True)\n",
    "df = df.merge(df_group, on = \"date\", how = 'outer', indicator = True)\n",
    "print(df['_merge'].value_counts(dropna = False))\n",
    "print(\"Shape of January 1st is\", df[df['date'] == '2022-01-01'].shape) # Check \n",
    "print(\"Shape of January 2nd is\", df[df['date'] == '2022-01-02'].shape) # Second check \n",
    "\n",
    "df_temp = df.set_index('date')\n",
    "\n",
    "print(df_temp.columns)"
   ]
  },
  {
   "cell_type": "code",
   "execution_count": 36,
   "metadata": {},
   "outputs": [
    {
     "data": {
      "text/html": [
       "<div>\n",
       "<style scoped>\n",
       "    .dataframe tbody tr th:only-of-type {\n",
       "        vertical-align: middle;\n",
       "    }\n",
       "\n",
       "    .dataframe tbody tr th {\n",
       "        vertical-align: top;\n",
       "    }\n",
       "\n",
       "    .dataframe thead th {\n",
       "        text-align: right;\n",
       "    }\n",
       "</style>\n",
       "<table border=\"1\" class=\"dataframe\">\n",
       "  <thead>\n",
       "    <tr style=\"text-align: right;\">\n",
       "      <th></th>\n",
       "      <th>ride_id</th>\n",
       "      <th>rideable_type</th>\n",
       "      <th>started_at</th>\n",
       "      <th>ended_at</th>\n",
       "      <th>start_station_name</th>\n",
       "      <th>start_station_id</th>\n",
       "      <th>end_station_name</th>\n",
       "      <th>end_station_id</th>\n",
       "      <th>start_lat</th>\n",
       "      <th>start_lng</th>\n",
       "      <th>end_lat</th>\n",
       "      <th>end_lng</th>\n",
       "      <th>member_casual</th>\n",
       "      <th>temp_avg</th>\n",
       "      <th>month</th>\n",
       "      <th>season</th>\n",
       "      <th>value</th>\n",
       "      <th>bike_trips_daily</th>\n",
       "      <th>_merge</th>\n",
       "    </tr>\n",
       "    <tr>\n",
       "      <th>date</th>\n",
       "      <th></th>\n",
       "      <th></th>\n",
       "      <th></th>\n",
       "      <th></th>\n",
       "      <th></th>\n",
       "      <th></th>\n",
       "      <th></th>\n",
       "      <th></th>\n",
       "      <th></th>\n",
       "      <th></th>\n",
       "      <th></th>\n",
       "      <th></th>\n",
       "      <th></th>\n",
       "      <th></th>\n",
       "      <th></th>\n",
       "      <th></th>\n",
       "      <th></th>\n",
       "      <th></th>\n",
       "      <th></th>\n",
       "    </tr>\n",
       "  </thead>\n",
       "  <tbody>\n",
       "    <tr>\n",
       "      <th>2022-01-01</th>\n",
       "      <td>115C78C3039FFA89</td>\n",
       "      <td>electric_bike</td>\n",
       "      <td>2022-01-01 09:21:14</td>\n",
       "      <td>2022-01-01 09:35:46</td>\n",
       "      <td>Essex Light Rail</td>\n",
       "      <td>JC038</td>\n",
       "      <td>Essex Light Rail</td>\n",
       "      <td>JC038</td>\n",
       "      <td>40.712774</td>\n",
       "      <td>-74.036486</td>\n",
       "      <td>40.712774</td>\n",
       "      <td>-74.036486</td>\n",
       "      <td>member</td>\n",
       "      <td>11.6</td>\n",
       "      <td>1</td>\n",
       "      <td>winter</td>\n",
       "      <td>1</td>\n",
       "      <td>592</td>\n",
       "      <td>both</td>\n",
       "    </tr>\n",
       "    <tr>\n",
       "      <th>2022-01-01</th>\n",
       "      <td>7FFD810CAA7A919E</td>\n",
       "      <td>classic_bike</td>\n",
       "      <td>2022-01-01 02:43:56</td>\n",
       "      <td>2022-01-01 02:43:57</td>\n",
       "      <td>12 St &amp; Sinatra Dr N</td>\n",
       "      <td>HB201</td>\n",
       "      <td>12 St &amp; Sinatra Dr N</td>\n",
       "      <td>HB201</td>\n",
       "      <td>40.750604</td>\n",
       "      <td>-74.024020</td>\n",
       "      <td>40.750604</td>\n",
       "      <td>-74.024020</td>\n",
       "      <td>member</td>\n",
       "      <td>11.6</td>\n",
       "      <td>1</td>\n",
       "      <td>winter</td>\n",
       "      <td>1</td>\n",
       "      <td>592</td>\n",
       "      <td>both</td>\n",
       "    </tr>\n",
       "    <tr>\n",
       "      <th>2022-01-01</th>\n",
       "      <td>E715E8432031B72C</td>\n",
       "      <td>classic_bike</td>\n",
       "      <td>2022-01-01 02:13:33</td>\n",
       "      <td>2022-01-01 02:18:42</td>\n",
       "      <td>Essex Light Rail</td>\n",
       "      <td>JC038</td>\n",
       "      <td>Washington St</td>\n",
       "      <td>JC098</td>\n",
       "      <td>40.712774</td>\n",
       "      <td>-74.036486</td>\n",
       "      <td>40.724294</td>\n",
       "      <td>-74.035483</td>\n",
       "      <td>member</td>\n",
       "      <td>11.6</td>\n",
       "      <td>1</td>\n",
       "      <td>winter</td>\n",
       "      <td>1</td>\n",
       "      <td>592</td>\n",
       "      <td>both</td>\n",
       "    </tr>\n",
       "    <tr>\n",
       "      <th>2022-01-01</th>\n",
       "      <td>BF1B7B1E1961A87B</td>\n",
       "      <td>electric_bike</td>\n",
       "      <td>2022-01-01 17:18:46</td>\n",
       "      <td>2022-01-01 18:55:25</td>\n",
       "      <td>Grand St</td>\n",
       "      <td>JC102</td>\n",
       "      <td>W 27 St &amp; 7 Ave</td>\n",
       "      <td>6247.06</td>\n",
       "      <td>40.715178</td>\n",
       "      <td>-74.037683</td>\n",
       "      <td>40.746647</td>\n",
       "      <td>-73.993915</td>\n",
       "      <td>casual</td>\n",
       "      <td>11.6</td>\n",
       "      <td>1</td>\n",
       "      <td>winter</td>\n",
       "      <td>1</td>\n",
       "      <td>592</td>\n",
       "      <td>both</td>\n",
       "    </tr>\n",
       "    <tr>\n",
       "      <th>2022-01-01</th>\n",
       "      <td>4A01F0E53C6F4386</td>\n",
       "      <td>electric_bike</td>\n",
       "      <td>2022-01-01 11:23:32</td>\n",
       "      <td>2022-01-01 11:29:27</td>\n",
       "      <td>Christ Hospital</td>\n",
       "      <td>JC034</td>\n",
       "      <td>Hoboken Terminal - Hudson St &amp; Hudson Pl</td>\n",
       "      <td>HB101</td>\n",
       "      <td>40.734786</td>\n",
       "      <td>-74.050444</td>\n",
       "      <td>40.735938</td>\n",
       "      <td>-74.030305</td>\n",
       "      <td>member</td>\n",
       "      <td>11.6</td>\n",
       "      <td>1</td>\n",
       "      <td>winter</td>\n",
       "      <td>1</td>\n",
       "      <td>592</td>\n",
       "      <td>both</td>\n",
       "    </tr>\n",
       "  </tbody>\n",
       "</table>\n",
       "</div>"
      ],
      "text/plain": [
       "                     ride_id  rideable_type           started_at  \\\n",
       "date                                                               \n",
       "2022-01-01  115C78C3039FFA89  electric_bike  2022-01-01 09:21:14   \n",
       "2022-01-01  7FFD810CAA7A919E   classic_bike  2022-01-01 02:43:56   \n",
       "2022-01-01  E715E8432031B72C   classic_bike  2022-01-01 02:13:33   \n",
       "2022-01-01  BF1B7B1E1961A87B  electric_bike  2022-01-01 17:18:46   \n",
       "2022-01-01  4A01F0E53C6F4386  electric_bike  2022-01-01 11:23:32   \n",
       "\n",
       "                       ended_at    start_station_name start_station_id  \\\n",
       "date                                                                     \n",
       "2022-01-01  2022-01-01 09:35:46      Essex Light Rail            JC038   \n",
       "2022-01-01  2022-01-01 02:43:57  12 St & Sinatra Dr N            HB201   \n",
       "2022-01-01  2022-01-01 02:18:42      Essex Light Rail            JC038   \n",
       "2022-01-01  2022-01-01 18:55:25              Grand St            JC102   \n",
       "2022-01-01  2022-01-01 11:29:27       Christ Hospital            JC034   \n",
       "\n",
       "                                    end_station_name end_station_id  \\\n",
       "date                                                                  \n",
       "2022-01-01                          Essex Light Rail          JC038   \n",
       "2022-01-01                      12 St & Sinatra Dr N          HB201   \n",
       "2022-01-01                             Washington St          JC098   \n",
       "2022-01-01                           W 27 St & 7 Ave        6247.06   \n",
       "2022-01-01  Hoboken Terminal - Hudson St & Hudson Pl          HB101   \n",
       "\n",
       "            start_lat  start_lng    end_lat    end_lng member_casual  \\\n",
       "date                                                                   \n",
       "2022-01-01  40.712774 -74.036486  40.712774 -74.036486        member   \n",
       "2022-01-01  40.750604 -74.024020  40.750604 -74.024020        member   \n",
       "2022-01-01  40.712774 -74.036486  40.724294 -74.035483        member   \n",
       "2022-01-01  40.715178 -74.037683  40.746647 -73.993915        casual   \n",
       "2022-01-01  40.734786 -74.050444  40.735938 -74.030305        member   \n",
       "\n",
       "            temp_avg  month  season  value  bike_trips_daily _merge  \n",
       "date                                                                 \n",
       "2022-01-01      11.6      1  winter      1               592   both  \n",
       "2022-01-01      11.6      1  winter      1               592   both  \n",
       "2022-01-01      11.6      1  winter      1               592   both  \n",
       "2022-01-01      11.6      1  winter      1               592   both  \n",
       "2022-01-01      11.6      1  winter      1               592   both  "
      ]
     },
     "execution_count": 36,
     "metadata": {},
     "output_type": "execute_result"
    }
   ],
   "source": [
    "df_temp.head()"
   ]
  },
  {
   "cell_type": "code",
   "execution_count": null,
   "metadata": {},
   "outputs": [],
   "source": [
    "# Create a figure with secondary y-axis configuration\n",
    "fig = make_subplots(specs=[[{\"secondary_y\": True}]])\n",
    "# Add bike rides daily data trace\n",
    "fig.add_trace(\n",
    "    go.Scatter(x=df['date'], y=df['bike_trips_daily'], name='Daily Bike Rides', marker_color='red'),\n",
    "    secondary_y=False,  # False indicates this trace uses the left y-axis\n",
    ")\n",
    "# Add average temperature data trace\n",
    "fig.add_trace(\n",
    "    go.Scatter(x=df['date'], y=df['temp_avg'], name='Daily Temperature', marker_color='blue'),\n",
    "    secondary_y=True,  # True indicates this trace uses the right y-axis\n",
    ")\n",
    "# Set x-axis title\n",
    "fig.update_xaxes(title_text='Date')\n",
    "# Set y-axes titles\n",
    "fig.update_yaxes(title_text='Bike Rides Daily', secondary_y=False)\n",
    "fig.update_yaxes(title_text='Average Temperature (°C)', secondary_y=True, tickfont_color='blue')\n",
    "# Add a title to the plot\n",
    "fig.update_layout(\n",
    "    title='Daily Bike Rides and Temperature in 2022',\n",
    "    showlegend=True\n",
    ")\n",
    "# Show the figure\n",
    "fig.show()"
   ]
  },
  {
   "cell_type": "markdown",
   "metadata": {},
   "source": [
    "## The plot for the code was deleted in order to reduce the file size"
   ]
  },
  {
   "cell_type": "code",
   "execution_count": null,
   "metadata": {},
   "outputs": [],
   "source": [
    "# Create a subplot figure with 2 rows and 1 column\n",
    "fig = make_subplots(rows=2, cols=1, vertical_spacing=0.15)  # vertical_spacing adjusts space between subplots\n",
    "\n",
    "# Add the daily bike rides data to the first subplot\n",
    "fig.add_trace(\n",
    "    go.Scatter(x=df_temp.index, y=df_temp['bike_trips_daily'], name='Daily Bike Trips', marker_color='navy'),\n",
    "    row=1, col=1  # Position this trace in the first row and first column\n",
    ")\n",
    "\n",
    "# Add the average temperature data to the second subplot\n",
    "fig.add_trace(\n",
    "    go.Scatter(x=df_temp.index, y=df_temp['temp_avg'], name='Average Temperature', marker_color='red'),\n",
    "    row=2, col=1  \n",
    ")\n",
    "\n",
    "# Update y-axes labels\n",
    "fig.update_yaxes(title_text=\"Bike Trips Daily\", row=1, col=1, title_font={\"color\": \"navy\", \"size\": 14})\n",
    "fig.update_yaxes(title_text=\"Average Temperature (°C)\", row=2, col=1, title_font={\"color\": \"red\", \"size\": 14})\n",
    "\n",
    "# Add a title to the overall figure\n",
    "fig.update_layout(\n",
    "    title='Temperature and Bike Trips in 2022',\n",
    "    title_font_size=18,\n",
    "    showlegend=False  \n",
    ")\n",
    "\n",
    "# Show the figure\n",
    "fig.show()"
   ]
  },
  {
   "cell_type": "markdown",
   "metadata": {},
   "source": [
    "## The plot for the code was deleted in order to reduce the file size"
   ]
  },
  {
   "cell_type": "code",
   "execution_count": 39,
   "metadata": {},
   "outputs": [],
   "source": [
    "# Save the top 20 stations as a csv file \n",
    "\n",
    "top20.to_csv('top20.csv')"
   ]
  },
  {
   "cell_type": "code",
   "execution_count": 40,
   "metadata": {},
   "outputs": [],
   "source": [
    "# Save the df as a csv file \n",
    "\n",
    "df.to_csv('NewYork_newdf.csv')"
   ]
  },
  {
   "cell_type": "code",
   "execution_count": 41,
   "metadata": {},
   "outputs": [
    {
     "data": {
      "text/plain": [
       "Index(['ride_id', 'rideable_type', 'started_at', 'ended_at',\n",
       "       'start_station_name', 'start_station_id', 'end_station_name',\n",
       "       'end_station_id', 'start_lat', 'start_lng', 'end_lat', 'end_lng',\n",
       "       'member_casual', 'date', 'temp_avg', 'month', 'season', 'value',\n",
       "       'bike_trips_daily', '_merge'],\n",
       "      dtype='object')"
      ]
     },
     "execution_count": 41,
     "metadata": {},
     "output_type": "execute_result"
    }
   ],
   "source": [
    "df.columns"
   ]
  },
  {
   "cell_type": "code",
   "execution_count": 43,
   "metadata": {},
   "outputs": [],
   "source": [
    "# Create a copy with fewer columns\n",
    "\n",
    "df_1 = df.drop(columns = {'ride_id', 'rideable_type', 'started_at', 'ended_at',\n",
    "       'start_station_id', 'end_station_id', 'member_casual', 'month', 'value',\n",
    "       '_merge'}) "
   ]
  },
  {
   "cell_type": "code",
   "execution_count": 44,
   "metadata": {},
   "outputs": [
    {
     "data": {
      "text/html": [
       "<div>\n",
       "<style scoped>\n",
       "    .dataframe tbody tr th:only-of-type {\n",
       "        vertical-align: middle;\n",
       "    }\n",
       "\n",
       "    .dataframe tbody tr th {\n",
       "        vertical-align: top;\n",
       "    }\n",
       "\n",
       "    .dataframe thead th {\n",
       "        text-align: right;\n",
       "    }\n",
       "</style>\n",
       "<table border=\"1\" class=\"dataframe\">\n",
       "  <thead>\n",
       "    <tr style=\"text-align: right;\">\n",
       "      <th></th>\n",
       "      <th>start_station_name</th>\n",
       "      <th>end_station_name</th>\n",
       "      <th>start_lat</th>\n",
       "      <th>start_lng</th>\n",
       "      <th>end_lat</th>\n",
       "      <th>end_lng</th>\n",
       "      <th>date</th>\n",
       "      <th>temp_avg</th>\n",
       "      <th>season</th>\n",
       "      <th>bike_trips_daily</th>\n",
       "    </tr>\n",
       "  </thead>\n",
       "  <tbody>\n",
       "    <tr>\n",
       "      <th>0</th>\n",
       "      <td>Essex Light Rail</td>\n",
       "      <td>Essex Light Rail</td>\n",
       "      <td>40.712774</td>\n",
       "      <td>-74.036486</td>\n",
       "      <td>40.712774</td>\n",
       "      <td>-74.036486</td>\n",
       "      <td>2022-01-01</td>\n",
       "      <td>11.6</td>\n",
       "      <td>winter</td>\n",
       "      <td>592</td>\n",
       "    </tr>\n",
       "    <tr>\n",
       "      <th>1</th>\n",
       "      <td>12 St &amp; Sinatra Dr N</td>\n",
       "      <td>12 St &amp; Sinatra Dr N</td>\n",
       "      <td>40.750604</td>\n",
       "      <td>-74.024020</td>\n",
       "      <td>40.750604</td>\n",
       "      <td>-74.024020</td>\n",
       "      <td>2022-01-01</td>\n",
       "      <td>11.6</td>\n",
       "      <td>winter</td>\n",
       "      <td>592</td>\n",
       "    </tr>\n",
       "    <tr>\n",
       "      <th>2</th>\n",
       "      <td>Essex Light Rail</td>\n",
       "      <td>Washington St</td>\n",
       "      <td>40.712774</td>\n",
       "      <td>-74.036486</td>\n",
       "      <td>40.724294</td>\n",
       "      <td>-74.035483</td>\n",
       "      <td>2022-01-01</td>\n",
       "      <td>11.6</td>\n",
       "      <td>winter</td>\n",
       "      <td>592</td>\n",
       "    </tr>\n",
       "    <tr>\n",
       "      <th>3</th>\n",
       "      <td>Grand St</td>\n",
       "      <td>W 27 St &amp; 7 Ave</td>\n",
       "      <td>40.715178</td>\n",
       "      <td>-74.037683</td>\n",
       "      <td>40.746647</td>\n",
       "      <td>-73.993915</td>\n",
       "      <td>2022-01-01</td>\n",
       "      <td>11.6</td>\n",
       "      <td>winter</td>\n",
       "      <td>592</td>\n",
       "    </tr>\n",
       "    <tr>\n",
       "      <th>4</th>\n",
       "      <td>Christ Hospital</td>\n",
       "      <td>Hoboken Terminal - Hudson St &amp; Hudson Pl</td>\n",
       "      <td>40.734786</td>\n",
       "      <td>-74.050444</td>\n",
       "      <td>40.735938</td>\n",
       "      <td>-74.030305</td>\n",
       "      <td>2022-01-01</td>\n",
       "      <td>11.6</td>\n",
       "      <td>winter</td>\n",
       "      <td>592</td>\n",
       "    </tr>\n",
       "  </tbody>\n",
       "</table>\n",
       "</div>"
      ],
      "text/plain": [
       "     start_station_name                          end_station_name  start_lat  \\\n",
       "0      Essex Light Rail                          Essex Light Rail  40.712774   \n",
       "1  12 St & Sinatra Dr N                      12 St & Sinatra Dr N  40.750604   \n",
       "2      Essex Light Rail                             Washington St  40.712774   \n",
       "3              Grand St                           W 27 St & 7 Ave  40.715178   \n",
       "4       Christ Hospital  Hoboken Terminal - Hudson St & Hudson Pl  40.734786   \n",
       "\n",
       "   start_lng    end_lat    end_lng       date  temp_avg  season  \\\n",
       "0 -74.036486  40.712774 -74.036486 2022-01-01      11.6  winter   \n",
       "1 -74.024020  40.750604 -74.024020 2022-01-01      11.6  winter   \n",
       "2 -74.036486  40.724294 -74.035483 2022-01-01      11.6  winter   \n",
       "3 -74.037683  40.746647 -73.993915 2022-01-01      11.6  winter   \n",
       "4 -74.050444  40.735938 -74.030305 2022-01-01      11.6  winter   \n",
       "\n",
       "   bike_trips_daily  \n",
       "0               592  \n",
       "1               592  \n",
       "2               592  \n",
       "3               592  \n",
       "4               592  "
      ]
     },
     "execution_count": 44,
     "metadata": {},
     "output_type": "execute_result"
    }
   ],
   "source": [
    "df_1.head()"
   ]
  },
  {
   "cell_type": "markdown",
   "metadata": {},
   "source": [
    "# Create a random split"
   ]
  },
  {
   "cell_type": "code",
   "execution_count": 46,
   "metadata": {},
   "outputs": [],
   "source": [
    "np.random.seed(32)\n",
    "red = np.random.rand(len(df_1)) <= 0.92"
   ]
  },
  {
   "cell_type": "code",
   "execution_count": 47,
   "metadata": {},
   "outputs": [],
   "source": [
    "small = df_1[~red]"
   ]
  },
  {
   "cell_type": "code",
   "execution_count": 48,
   "metadata": {},
   "outputs": [
    {
     "data": {
      "text/plain": [
       "(71391, 10)"
      ]
     },
     "execution_count": 48,
     "metadata": {},
     "output_type": "execute_result"
    }
   ],
   "source": [
    "small.shape"
   ]
  },
  {
   "cell_type": "code",
   "execution_count": 49,
   "metadata": {},
   "outputs": [],
   "source": [
    "# saving the small dataframe to csv \n",
    "small.to_csv('reduced_data_to_plot_7.csv',index = False)"
   ]
  },
  {
   "cell_type": "code",
   "execution_count": 50,
   "metadata": {},
   "outputs": [],
   "source": [
    "# saving the reduced dataframe to csv \n",
    "df_1.to_csv('reduced_data_to_plot.csv')"
   ]
  },
  {
   "cell_type": "code",
   "execution_count": null,
   "metadata": {},
   "outputs": [],
   "source": []
  },
  {
   "cell_type": "code",
   "execution_count": null,
   "metadata": {},
   "outputs": [],
   "source": []
  },
  {
   "cell_type": "code",
   "execution_count": null,
   "metadata": {},
   "outputs": [],
   "source": []
  },
  {
   "cell_type": "code",
   "execution_count": null,
   "metadata": {},
   "outputs": [],
   "source": []
  }
 ],
 "metadata": {
  "kernelspec": {
   "display_name": ".venv",
   "language": "python",
   "name": "python3"
  },
  "language_info": {
   "codemirror_mode": {
    "name": "ipython",
    "version": 3
   },
   "file_extension": ".py",
   "mimetype": "text/x-python",
   "name": "python",
   "nbconvert_exporter": "python",
   "pygments_lexer": "ipython3",
   "version": "3.11.9"
  }
 },
 "nbformat": 4,
 "nbformat_minor": 2
}
